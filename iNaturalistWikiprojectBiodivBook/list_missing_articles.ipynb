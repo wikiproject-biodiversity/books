{
 "cells": [
  {
   "cell_type": "code",
   "execution_count": 1,
   "metadata": {},
   "outputs": [],
   "source": [
    "import math\n",
    "import json\n",
    "import requests\n",
    "import os\n",
    "import pandas as pd\n",
    "import mdutils"
   ]
  },
  {
   "cell_type": "code",
   "execution_count": 3,
   "metadata": {},
   "outputs": [],
   "source": [
    "project = \"wikiproject-biodiversity\"\n",
    "license = \"cc0,cc-by\"\n",
    "language = \"en\""
   ]
  },
  {
   "cell_type": "code",
   "execution_count": 4,
   "metadata": {
    "pycharm": {
     "name": "#%%\n"
    }
   },
   "outputs": [
    {
     "name": "stdout",
     "output_type": "stream",
     "text": [
      "https://api.inaturalist.org/v1/observations?photo_license=cc0,cc-by&quality_grade=research&per_page=200&project_id=wikiproject-biodiversity\n"
     ]
    }
   ],
   "source": [
    "url = f\"https://api.inaturalist.org/v1/observations?photo_license={license}&quality_grade=research&per_page=200&project_id={project}\"\n",
    "print(url)"
   ]
  },
  {
   "cell_type": "code",
   "execution_count": 5,
   "metadata": {
    "pycharm": {
     "name": "#%%\n"
    }
   },
   "outputs": [
    {
     "name": "stdout",
     "output_type": "stream",
     "text": [
      "https://api.inaturalist.org/v1/observations?photo_license=cc0,cc-by&quality_grade=research&per_page=200&project_id=wikiproject-biodiversity&page=114\n",
      "https://api.inaturalist.org/v1/observations?photo_license=cc0,cc-by&quality_grade=research&per_page=200&project_id=wikiproject-biodiversity&page=116\n",
      "https://api.inaturalist.org/v1/observations?photo_license=cc0,cc-by&quality_grade=research&per_page=200&project_id=wikiproject-biodiversity&page=118\n",
      "https://api.inaturalist.org/v1/observations?photo_license=cc0,cc-by&quality_grade=research&per_page=200&project_id=wikiproject-biodiversity&page=120\n",
      "https://api.inaturalist.org/v1/observations?photo_license=cc0,cc-by&quality_grade=research&per_page=200&project_id=wikiproject-biodiversity&page=122\n",
      "https://api.inaturalist.org/v1/observations?photo_license=cc0,cc-by&quality_grade=research&per_page=200&project_id=wikiproject-biodiversity&page=124\n",
      "https://api.inaturalist.org/v1/observations?photo_license=cc0,cc-by&quality_grade=research&per_page=200&project_id=wikiproject-biodiversity&page=126\n",
      "https://api.inaturalist.org/v1/observations?photo_license=cc0,cc-by&quality_grade=research&per_page=200&project_id=wikiproject-biodiversity&page=128\n",
      "https://api.inaturalist.org/v1/observations?photo_license=cc0,cc-by&quality_grade=research&per_page=200&project_id=wikiproject-biodiversity&page=131\n",
      "https://api.inaturalist.org/v1/observations?photo_license=cc0,cc-by&quality_grade=research&per_page=200&project_id=wikiproject-biodiversity&page=133\n",
      "https://api.inaturalist.org/v1/observations?photo_license=cc0,cc-by&quality_grade=research&per_page=200&project_id=wikiproject-biodiversity&page=135\n",
      "https://api.inaturalist.org/v1/observations?photo_license=cc0,cc-by&quality_grade=research&per_page=200&project_id=wikiproject-biodiversity&page=137\n",
      "https://api.inaturalist.org/v1/observations?photo_license=cc0,cc-by&quality_grade=research&per_page=200&project_id=wikiproject-biodiversity&page=139\n",
      "https://api.inaturalist.org/v1/observations?photo_license=cc0,cc-by&quality_grade=research&per_page=200&project_id=wikiproject-biodiversity&page=141\n",
      "https://api.inaturalist.org/v1/observations?photo_license=cc0,cc-by&quality_grade=research&per_page=200&project_id=wikiproject-biodiversity&page=143\n",
      "https://api.inaturalist.org/v1/observations?photo_license=cc0,cc-by&quality_grade=research&per_page=200&project_id=wikiproject-biodiversity&page=145\n",
      "https://api.inaturalist.org/v1/observations?photo_license=cc0,cc-by&quality_grade=research&per_page=200&project_id=wikiproject-biodiversity&page=147\n",
      "https://api.inaturalist.org/v1/observations?photo_license=cc0,cc-by&quality_grade=research&per_page=200&project_id=wikiproject-biodiversity&page=149\n",
      "https://api.inaturalist.org/v1/observations?photo_license=cc0,cc-by&quality_grade=research&per_page=200&project_id=wikiproject-biodiversity&page=151\n",
      "https://api.inaturalist.org/v1/observations?photo_license=cc0,cc-by&quality_grade=research&per_page=200&project_id=wikiproject-biodiversity&page=153\n",
      "https://api.inaturalist.org/v1/observations?photo_license=cc0,cc-by&quality_grade=research&per_page=200&project_id=wikiproject-biodiversity&page=155\n",
      "https://api.inaturalist.org/v1/observations?photo_license=cc0,cc-by&quality_grade=research&per_page=200&project_id=wikiproject-biodiversity&page=157\n",
      "https://api.inaturalist.org/v1/observations?photo_license=cc0,cc-by&quality_grade=research&per_page=200&project_id=wikiproject-biodiversity&page=159\n",
      "https://api.inaturalist.org/v1/observations?photo_license=cc0,cc-by&quality_grade=research&per_page=200&project_id=wikiproject-biodiversity&page=161\n",
      "https://api.inaturalist.org/v1/observations?photo_license=cc0,cc-by&quality_grade=research&per_page=200&project_id=wikiproject-biodiversity&page=163\n",
      "https://api.inaturalist.org/v1/observations?photo_license=cc0,cc-by&quality_grade=research&per_page=200&project_id=wikiproject-biodiversity&page=165\n",
      "https://api.inaturalist.org/v1/observations?photo_license=cc0,cc-by&quality_grade=research&per_page=200&project_id=wikiproject-biodiversity&page=167\n",
      "https://api.inaturalist.org/v1/observations?photo_license=cc0,cc-by&quality_grade=research&per_page=200&project_id=wikiproject-biodiversity&page=169\n",
      "https://api.inaturalist.org/v1/observations?photo_license=cc0,cc-by&quality_grade=research&per_page=200&project_id=wikiproject-biodiversity&page=171\n",
      "https://api.inaturalist.org/v1/observations?photo_license=cc0,cc-by&quality_grade=research&per_page=200&project_id=wikiproject-biodiversity&page=173\n"
     ]
    }
   ],
   "source": [
    "result = json.loads(requests.get(url).text)\n",
    "for page in range(1, math.ceil(result[\"total_results\"]/200)+1):\n",
    "    try:\n",
    "        nextpageresult = json.loads(requests.get(url+\"&page=\"+str(page)).text)\n",
    "    except:\n",
    "        print(url+\"&page=\"+str(page))\n",
    "        continue\n",
    "    if \"results\" in nextpageresult:\n",
    "        for obs in nextpageresult[\"results\"]:\n",
    "            result[\"results\"].append(obs)"
   ]
  },
  {
   "cell_type": "code",
   "execution_count": 6,
   "metadata": {
    "pycharm": {
     "name": "#%%\n"
    }
   },
   "outputs": [],
   "source": [
    "table = dict()\n",
    "for record in result[\"results\"]:\n",
    "    if record['taxon']['rank'] == \"species\":\n",
    "        if record[\"taxon\"][\"id\"] not in table.keys():\n",
    "            table[record[\"taxon\"][\"id\"]] = dict()\n",
    "        table[record[\"taxon\"][\"id\"]][\"taxon_name\"] = record[\"taxon\"][\"name\"]\n",
    "        for photo in record[\"observation_photos\"]:\n",
    "            if \"photos\" not in table[record[\"taxon\"][\"id\"]].keys():\n",
    "                table[record[\"taxon\"][\"id\"]][\"photos\"] = []\n",
    "            table[record[\"taxon\"][\"id\"]][\"photos\"].append(photo[\"photo\"][\"url\"])\n",
    "\n",
    "to_verify = []\n",
    "for taxon in table.keys():\n",
    "    to_verify.append(table[taxon]['taxon_name'])\n"
   ]
  },
  {
   "cell_type": "code",
   "execution_count": 7,
   "metadata": {},
   "outputs": [],
   "source": [
    "def verify_wikidata(taxon_names):\n",
    "    verified = []\n",
    "    i = 1\n",
    "    for chunks in [taxon_names[i:i + 50] for i in range(0, len(taxon_names), 50)]:\n",
    "        names=\" \".join('\"{0}\"'.format(w) for w in chunks)\n",
    "        query = f\"\"\"\n",
    "             SELECT DISTINCT ?taxon_name (COUNT(?item) AS ?item_count) (COUNT(?article) AS ?article_count)   WHERE {{\n",
    "                        VALUES ?taxon_name {{{names}}} \n",
    "                {{?item wdt:P225 ?taxon_name .}}\n",
    "               UNION\n",
    "               {{?item wdt:P225 ?taxon_name .\n",
    "                ?article schema:about ?item ;\n",
    "                         schema:isPartOf \t<{\"https://\"+language+\".wikipedia.org/\"}> .}}\n",
    "                 UNION \n",
    "               {{?basionym wdt:P566 ?item ;\n",
    "                          wdt:P225 ?taxon_name .\n",
    "               ?article schema:about ?item ;\n",
    "                        schema:isPartOf \t<{\"https://\"+language+\".wikipedia.org/\"}> .}}\n",
    "               UNION\n",
    "               {{\n",
    "                  ?item wdt:P225 ?taxon_name .\n",
    "                  ?wikidata_item wdt:P460 ?item ;\n",
    "                                 schema:isPartOf \t<{\"https://\"+language+\".wikipedia.org/\"}> .\n",
    "               }}\n",
    "               UNION\n",
    "               {{?basionym wdt:P566 ?item .\n",
    "                ?item wdt:P225 ?taxon_name .\n",
    "               ?article schema:about ?basionym ;\n",
    "                        schema:isPartOf \t<{\"https://\"+language+\".wikipedia.org/\"}> .}}\n",
    "      }} GROUP BY ?taxon_name  \n",
    "            \"\"\"\n",
    "\n",
    "        url = \"https://query.wikidata.org/sparql?format=json&query=\"+query  \n",
    "        try:\n",
    "            results = json.loads(requests.get(url).text)\n",
    "        except:\n",
    "            continue\n",
    "        for result in results[\"results\"][\"bindings\"]:\n",
    "            if result[\"article_count\"][\"value\"]=='0':\n",
    "                verified.append(result[\"taxon_name\"][\"value\"])\n",
    "    return verified"
   ]
  },
  {
   "cell_type": "code",
   "execution_count": 8,
   "metadata": {},
   "outputs": [
    {
     "data": {
      "text/plain": "['Felis catus',\n 'Antigone canadensis',\n 'Oudemansiella radicata',\n 'Negosiana dualis',\n 'Coccinella quinquepunctata',\n 'Chauliognathus flavipes',\n 'Kuschelina nigrovittata',\n 'Tenthredo campestris',\n 'Phintelloides versicolor',\n 'Zeltus amasa',\n 'Eurema andersoni',\n 'Camponotus rufipes',\n 'Muntiacus vaginalis',\n 'Perola chica',\n 'Adeloneivaia apicalis',\n 'Perola brumalis',\n 'Apoica gelida',\n 'Nannopterum brasilianum',\n 'Orobanche gracilis',\n 'Aspidisca cicada',\n 'Pygochelidon cyanoleuca',\n 'Rhionaeschna bonariensis',\n 'Micrathena annulata',\n 'Hypselonotus interruptus',\n 'Baccharis trimera',\n 'Camponotus lespesii',\n 'Eucnide lobata',\n 'Tamonea spicata',\n 'Alpaida truncata',\n 'Sipanea pratensis',\n 'Urocentrum turbo',\n 'Pseudofumaria lutea',\n 'Otospermophilus beecheyi',\n 'Nereocystis luetkeana',\n 'Rhinella alata',\n 'Pachysylvia aurantiifrons',\n 'Camponotus cruentatus',\n 'Mystacides longicornis',\n 'Pharia pyramidata',\n 'Anisotremus taeniatus',\n 'Johnrandallia nigrirostris',\n 'Acontia trabealis',\n 'Strongylium championi',\n 'Eriothrix rufomaculata',\n 'Liparus glabrirostris',\n 'Adomerus biguttatus',\n 'Dascillus cervinus',\n 'Silpha obscura',\n 'Syricoris lacunana',\n 'Mononychus punctumalbum',\n 'Ctenicera pectinicornis',\n 'Phyteuma nigrum',\n 'Aria edulis',\n 'Coraliomela quadrimaculata',\n 'Bos taurus',\n 'Xyleus discoideus',\n 'Eumaeus childrenae',\n 'Osmia bicornis',\n 'Arvelius albopunctatus',\n 'Conocephalus albescens',\n 'Austroeupatorium inulifolium',\n 'Schinus longifolia',\n 'Sceliphron madraspatanum',\n 'Verbascum coromandelianum',\n 'Euptoieta hortensia',\n 'Melocactus zehntneri',\n 'Tarenaya longicarpa',\n 'Cuphea carthagenensis',\n 'Leistes superciliaris',\n 'Colletia paradoxa',\n 'Pavonia glechomoides',\n 'Jaborosa runcinata',\n 'Noticastrum diffusum',\n 'Bidens subalternans',\n 'Dolichothele exilis',\n 'Ricciocarpos natans',\n 'Ludwigia leptocarpa']"
     },
     "execution_count": 8,
     "metadata": {},
     "output_type": "execute_result"
    }
   ],
   "source": [
    "verified = verify_wikidata(to_verify)\n",
    "verified"
   ]
  },
  {
   "cell_type": "code",
   "execution_count": 9,
   "metadata": {},
   "outputs": [
    {
     "data": {
      "text/plain": "                          taxon  iNaturalist_taxon_id  \\\n0                   Felis catus                118552   \n1           Antigone canadensis                508048   \n2        Oudemansiella radicata                383374   \n3    Coccinella quinquepunctata                 57871   \n4       Kuschelina nigrovittata                775889   \n..                          ...                   ...   \n208    Rhionaeschna bonariensis                542509   \n209    Otospermophilus beecheyi                180007   \n210    Otospermophilus beecheyi                180007   \n211    Otospermophilus beecheyi                180007   \n212                 Felis catus                118552   \n\n     iNaturalist_observation_id  reviewers  \n0                     144646346          5  \n1                     144345715          3  \n2                     144256941          3  \n3                     144238063          2  \n4                     144170052          2  \n..                          ...        ...  \n208                   104859519          4  \n209                   104691849          4  \n210                   104691847          4  \n211                   104691846          4  \n212                   104445784          3  \n\n[213 rows x 4 columns]",
      "text/html": "<div>\n<style scoped>\n    .dataframe tbody tr th:only-of-type {\n        vertical-align: middle;\n    }\n\n    .dataframe tbody tr th {\n        vertical-align: top;\n    }\n\n    .dataframe thead th {\n        text-align: right;\n    }\n</style>\n<table border=\"1\" class=\"dataframe\">\n  <thead>\n    <tr style=\"text-align: right;\">\n      <th></th>\n      <th>taxon</th>\n      <th>iNaturalist_taxon_id</th>\n      <th>iNaturalist_observation_id</th>\n      <th>reviewers</th>\n    </tr>\n  </thead>\n  <tbody>\n    <tr>\n      <th>0</th>\n      <td>Felis catus</td>\n      <td>118552</td>\n      <td>144646346</td>\n      <td>5</td>\n    </tr>\n    <tr>\n      <th>1</th>\n      <td>Antigone canadensis</td>\n      <td>508048</td>\n      <td>144345715</td>\n      <td>3</td>\n    </tr>\n    <tr>\n      <th>2</th>\n      <td>Oudemansiella radicata</td>\n      <td>383374</td>\n      <td>144256941</td>\n      <td>3</td>\n    </tr>\n    <tr>\n      <th>3</th>\n      <td>Coccinella quinquepunctata</td>\n      <td>57871</td>\n      <td>144238063</td>\n      <td>2</td>\n    </tr>\n    <tr>\n      <th>4</th>\n      <td>Kuschelina nigrovittata</td>\n      <td>775889</td>\n      <td>144170052</td>\n      <td>2</td>\n    </tr>\n    <tr>\n      <th>...</th>\n      <td>...</td>\n      <td>...</td>\n      <td>...</td>\n      <td>...</td>\n    </tr>\n    <tr>\n      <th>208</th>\n      <td>Rhionaeschna bonariensis</td>\n      <td>542509</td>\n      <td>104859519</td>\n      <td>4</td>\n    </tr>\n    <tr>\n      <th>209</th>\n      <td>Otospermophilus beecheyi</td>\n      <td>180007</td>\n      <td>104691849</td>\n      <td>4</td>\n    </tr>\n    <tr>\n      <th>210</th>\n      <td>Otospermophilus beecheyi</td>\n      <td>180007</td>\n      <td>104691847</td>\n      <td>4</td>\n    </tr>\n    <tr>\n      <th>211</th>\n      <td>Otospermophilus beecheyi</td>\n      <td>180007</td>\n      <td>104691846</td>\n      <td>4</td>\n    </tr>\n    <tr>\n      <th>212</th>\n      <td>Felis catus</td>\n      <td>118552</td>\n      <td>104445784</td>\n      <td>3</td>\n    </tr>\n  </tbody>\n</table>\n<p>213 rows × 4 columns</p>\n</div>"
     },
     "execution_count": 9,
     "metadata": {},
     "output_type": "execute_result"
    }
   ],
   "source": [
    "missing_en_wp_by_user = pd.DataFrame(columns=[\"taxon\", \"iNaturalist_taxon_id\", \"iNaturalist_observation_id\", \"reviewers\"])\n",
    "\n",
    "for observation in result[\"results\"]:\n",
    "    if observation[\"taxon\"][\"name\"] in verified:\n",
    "        missing_en_wp_by_user.loc[len(missing_en_wp_by_user)] = [observation[\"taxon\"][\"name\"], observation[\"taxon\"][\"id\"], observation[\"id\"], len(observation[\"reviewed_by\"])]\n",
    "missing_en_wp_by_user"
   ]
  },
  {
   "cell_type": "code",
   "execution_count": 11,
   "metadata": {},
   "outputs": [],
   "source": [
    "import shutil\n",
    "# shutil.rmtree('./new_articles/')\n",
    "os.makedirs(os.path.dirname('./new_articles/'), exist_ok=True)"
   ]
  },
  {
   "cell_type": "code",
   "execution_count": 12,
   "outputs": [],
   "source": [
    "for taxon in table.keys():\n",
    "    if table[taxon][\"taxon_name\"] in verified:\n",
    "        mdFile = mdutils.MdUtils(file_name='new_articles/'+table[taxon][\"taxon_name\"].replace(\" \", \"_\"),title=table[taxon][\"taxon_name\"])\n",
    "        mdFile.new_line(f\"[iNaturalist taxon id: {taxon}](https://www.inaturalist.org/taxa/{taxon})\")\n",
    "        for image in table[taxon][\"photos\"]:\n",
    "            mdFile.new_line(f\"![{table[taxon]['taxon_name']}]({image.replace('square', 'medium')})\")\n",
    "        mdFile.create_md_file()"
   ],
   "metadata": {
    "collapsed": false,
    "pycharm": {
     "name": "#%%\n"
    }
   }
  },
  {
   "cell_type": "code",
   "execution_count": 13,
   "outputs": [],
   "source": [
    "import yaml\n",
    "\n",
    "with open(r'_toc.yml') as file:\n",
    "    # The FullLoader parameter handles the conversion from YAML\n",
    "    # scalar values to Python the dictionary format\n",
    "    species = yaml.load(file, Loader=yaml.FullLoader)\n",
    "\n",
    "species[\"parts\"][0][\"chapters\"] = []\n",
    "for file in os.listdir('./new_articles/'):\n",
    "    species[\"parts\"][0][\"chapters\"].append({'file': 'new_articles/'+file})\n",
    "with open(r'_toc.yml', 'w+') as file:\n",
    "    documents = yaml.dump(species, file)"
   ],
   "metadata": {
    "collapsed": false,
    "pycharm": {
     "name": "#%%\n"
    }
   }
  }
 ],
 "metadata": {
  "celltoolbar": "Tags",
  "kernelspec": {
   "display_name": "Python 3",
   "language": "python",
   "name": "python3"
  },
  "language_info": {
   "codemirror_mode": {
    "name": "ipython",
    "version": 3
   },
   "file_extension": ".py",
   "mimetype": "text/x-python",
   "name": "python",
   "nbconvert_exporter": "python",
   "pygments_lexer": "ipython3",
   "version": "3.8.9"
  }
 },
 "nbformat": 4,
 "nbformat_minor": 1
}
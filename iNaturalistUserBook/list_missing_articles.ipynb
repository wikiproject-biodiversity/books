{
 "cells": [
  {
   "cell_type": "code",
   "execution_count": 1,
   "metadata": {},
   "outputs": [],
   "source": [
    "import math\n",
    "import json\n",
    "import requests\n",
    "import os\n",
    "import pandas as pd\n",
    "import mdutils"
   ]
  },
  {
   "cell_type": "code",
   "execution_count": 2,
   "metadata": {},
   "outputs": [],
   "source": [
    "usernames = [\"soetjipto\", \"andrawaag\"]\n",
    "license = \"cc0\"\n",
    "language = \"en\""
   ]
  },
  {
   "cell_type": "code",
   "execution_count": 3,
   "metadata": {
    "pycharm": {
     "name": "#%%\n"
    }
   },
   "outputs": [
    {
     "name": "stdout",
     "output_type": "stream",
     "text": [
      "https://api.inaturalist.org/v1/observations?photo_license=cc0&quality_grade=research&per_page=200&user_id=soetjipto,andrawaag\n"
     ]
    }
   ],
   "source": [
    "url = \"https://api.inaturalist.org/v1/observations?photo_license=\"+license+\"&quality_grade=research&per_page=200&user_id=\"+\",\".join(usernames)\n",
    "print(url)"
   ]
  },
  {
   "cell_type": "code",
   "execution_count": 4,
   "metadata": {
    "pycharm": {
     "name": "#%%\n"
    }
   },
   "outputs": [],
   "source": [
    "result = json.loads(requests.get(url).text)\n",
    "for page in range(1, math.ceil(result[\"total_results\"]/200)+1):\n",
    "    try:\n",
    "        nextpageresult = json.loads(requests.get(url+\"&page=\"+str(page)).text)\n",
    "    except:\n",
    "        print(url+\"&page=\"+str(page))\n",
    "        continue\n",
    "    if \"results\" in nextpageresult:\n",
    "        for obs in nextpageresult[\"results\"]:\n",
    "            result[\"results\"].append(obs)"
   ]
  },
  {
   "cell_type": "code",
   "execution_count": 5,
   "metadata": {
    "pycharm": {
     "name": "#%%\n"
    }
   },
   "outputs": [],
   "source": [
    "table = dict()\n",
    "for record in result[\"results\"]:\n",
    "    if record['taxon']['rank'] == \"species\":\n",
    "        if record[\"taxon\"][\"id\"] not in table.keys():\n",
    "            table[record[\"taxon\"][\"id\"]] = dict()\n",
    "        table[record[\"taxon\"][\"id\"]][\"taxon_name\"] = record[\"taxon\"][\"name\"]\n",
    "        for photo in record[\"observation_photos\"]:\n",
    "            if \"photos\" not in table[record[\"taxon\"][\"id\"]].keys():\n",
    "                table[record[\"taxon\"][\"id\"]][\"photos\"] = []\n",
    "            table[record[\"taxon\"][\"id\"]][\"photos\"].append(photo[\"photo\"][\"url\"])\n",
    "\n",
    "to_verify = []\n",
    "for taxon in table.keys():\n",
    "    to_verify.append(table[taxon]['taxon_name'])\n"
   ]
  },
  {
   "cell_type": "code",
   "execution_count": 6,
   "metadata": {},
   "outputs": [],
   "source": [
    "def verify_wikidata(taxon_names):\n",
    "    verified = []\n",
    "    i = 1\n",
    "    for chunks in [taxon_names[i:i + 50] for i in range(0, len(taxon_names), 50)]:\n",
    "        names=\" \".join('\"{0}\"'.format(w) for w in chunks)\n",
    "        query = f\"\"\"\n",
    "             SELECT DISTINCT ?taxon_name (COUNT(?item) AS ?item_count) (COUNT(?article) AS ?article_count)   WHERE {{\n",
    "                        VALUES ?taxon_name {{{names}}} \n",
    "                {{?item wdt:P225 ?taxon_name .}}\n",
    "               UNION\n",
    "               {{?item wdt:P225 ?taxon_name .\n",
    "                ?article schema:about ?item ;\n",
    "                         schema:isPartOf \t<{\"https://\"+language+\".wikipedia.org/\"}> .}}\n",
    "                 UNION \n",
    "               {{?basionym wdt:P566 ?item ;\n",
    "                          wdt:P225 ?taxon_name .\n",
    "               ?article schema:about ?item ;\n",
    "                        schema:isPartOf \t<{\"https://\"+language+\".wikipedia.org/\"}> .}}\n",
    "               UNION\n",
    "               {{\n",
    "                  ?item wdt:P225 ?taxon_name .\n",
    "                  ?wikidata_item wdt:P460 ?item ;\n",
    "                                 schema:isPartOf \t<{\"https://\"+language+\".wikipedia.org/\"}> .\n",
    "               }}\n",
    "               UNION\n",
    "               {{?basionym wdt:P566 ?item .\n",
    "                ?item wdt:P225 ?taxon_name .\n",
    "               ?article schema:about ?basionym ;\n",
    "                        schema:isPartOf \t<{\"https://\"+language+\".wikipedia.org/\"}> .}}\n",
    "      }} GROUP BY ?taxon_name  \n",
    "            \"\"\"\n",
    "\n",
    "        url = \"https://query.wikidata.org/sparql?format=json&query=\"+query  \n",
    "        try:\n",
    "            results = json.loads(requests.get(url).text)\n",
    "        except:\n",
    "            continue\n",
    "        for result in results[\"results\"][\"bindings\"]:\n",
    "            if result[\"article_count\"][\"value\"]=='0':\n",
    "                verified.append(result[\"taxon_name\"][\"value\"])\n",
    "    return verified"
   ]
  },
  {
   "cell_type": "code",
   "execution_count": 7,
   "metadata": {},
   "outputs": [
    {
     "data": {
      "text/plain": "['Ectatomma brunneum',\n 'Miresa clarissa',\n 'Pompeius pompeius',\n 'Mormidea ypsilon',\n 'Eperua rubiginosa',\n 'Helicopis cupido',\n 'Markea coccinea',\n 'Macugonalia moesta',\n 'Dianthera secunda',\n 'Apoica strigata',\n 'Vismia cayennensis',\n 'Camponotus renggeri',\n 'Pityrogramma calomelanos',\n 'Piriqueta cistoides',\n 'Leistes militaris',\n 'Murdannia nudiflora',\n 'Sosxetra grata',\n 'Euglyphis braganza',\n 'Sapajus apella',\n 'Synedrella nodiflora',\n 'Tamonea spicata',\n 'Priva lappulacea',\n 'Sipanea pratensis',\n 'Goeppertia latifolia',\n 'Luehea seemannii',\n 'Apoica gelida',\n 'Rhinella alata',\n 'Palicourea tomentosa',\n 'Earliella scabrosa',\n 'Kalanchoe laxiflora',\n 'Epidendrum jamiesonis',\n 'Camponotus cruentatus',\n 'Tillandsia lajensis',\n 'Tillandsia pastensis',\n 'Pygochelidon cyanoleuca',\n 'Saguinus nigricollis',\n 'Lissachatina fulica',\n 'Pharia pyramidata',\n 'Puya asplundii',\n 'Anisotremus taeniatus',\n 'Johnrandallia nigrirostris',\n 'Lantana velutina',\n 'Sanchezia oblonga',\n 'Sporophila angolensis',\n 'Piper peltatum',\n 'Limnephilus auricula',\n 'Hypanus longus',\n 'Elzunia pavonii',\n 'Serica brunnea',\n 'Deltote pygarga',\n 'Bos taurus',\n 'Drimia numidica',\n 'Mnium hornum',\n 'Dendrogyra cylindrus',\n 'Pachyiulus flavipes',\n 'Briareum asbestinum',\n 'Verongula reiswigi',\n 'Bergia puertoricense',\n 'Agelas sventres',\n 'Ircinia campana',\n 'Lactophrys triqueter',\n 'Nannopterum brasilianum',\n 'Aiouea montana',\n 'Peperomia emarginella',\n 'Thamnobates subfalcata']"
     },
     "execution_count": 7,
     "metadata": {},
     "output_type": "execute_result"
    }
   ],
   "source": [
    "verified = verify_wikidata(to_verify)\n",
    "verified"
   ]
  },
  {
   "cell_type": "code",
   "execution_count": 8,
   "metadata": {},
   "outputs": [
    {
     "data": {
      "text/plain": "                       taxon  iNaturalist_taxon_id  \\\n0          Pompeius pompeius                148737   \n1         Macugonalia moesta                733426   \n2           Mormidea ypsilon                296290   \n3          Dianthera secunda                942468   \n4            Miresa clarissa                764661   \n..                       ...                   ...   \n126  Nannopterum brasilianum               1289601   \n127    Peperomia emarginella                281323   \n128   Thamnobates subfalcata               1029635   \n129           Aiouea montana                867397   \n130     Palicourea tomentosa               1145089   \n\n     iNaturalist_observation_id  reviewers  \n0                     143934998          3  \n1                     143890329          3  \n2                     143428602          3  \n3                     143427513          3  \n4                     143020564          4  \n..                          ...        ...  \n126                    36978740          3  \n127                    36959802          4  \n128                    36903468          5  \n129                    36896553          3  \n130                    36857005          4  \n\n[131 rows x 4 columns]",
      "text/html": "<div>\n<style scoped>\n    .dataframe tbody tr th:only-of-type {\n        vertical-align: middle;\n    }\n\n    .dataframe tbody tr th {\n        vertical-align: top;\n    }\n\n    .dataframe thead th {\n        text-align: right;\n    }\n</style>\n<table border=\"1\" class=\"dataframe\">\n  <thead>\n    <tr style=\"text-align: right;\">\n      <th></th>\n      <th>taxon</th>\n      <th>iNaturalist_taxon_id</th>\n      <th>iNaturalist_observation_id</th>\n      <th>reviewers</th>\n    </tr>\n  </thead>\n  <tbody>\n    <tr>\n      <th>0</th>\n      <td>Pompeius pompeius</td>\n      <td>148737</td>\n      <td>143934998</td>\n      <td>3</td>\n    </tr>\n    <tr>\n      <th>1</th>\n      <td>Macugonalia moesta</td>\n      <td>733426</td>\n      <td>143890329</td>\n      <td>3</td>\n    </tr>\n    <tr>\n      <th>2</th>\n      <td>Mormidea ypsilon</td>\n      <td>296290</td>\n      <td>143428602</td>\n      <td>3</td>\n    </tr>\n    <tr>\n      <th>3</th>\n      <td>Dianthera secunda</td>\n      <td>942468</td>\n      <td>143427513</td>\n      <td>3</td>\n    </tr>\n    <tr>\n      <th>4</th>\n      <td>Miresa clarissa</td>\n      <td>764661</td>\n      <td>143020564</td>\n      <td>4</td>\n    </tr>\n    <tr>\n      <th>...</th>\n      <td>...</td>\n      <td>...</td>\n      <td>...</td>\n      <td>...</td>\n    </tr>\n    <tr>\n      <th>126</th>\n      <td>Nannopterum brasilianum</td>\n      <td>1289601</td>\n      <td>36978740</td>\n      <td>3</td>\n    </tr>\n    <tr>\n      <th>127</th>\n      <td>Peperomia emarginella</td>\n      <td>281323</td>\n      <td>36959802</td>\n      <td>4</td>\n    </tr>\n    <tr>\n      <th>128</th>\n      <td>Thamnobates subfalcata</td>\n      <td>1029635</td>\n      <td>36903468</td>\n      <td>5</td>\n    </tr>\n    <tr>\n      <th>129</th>\n      <td>Aiouea montana</td>\n      <td>867397</td>\n      <td>36896553</td>\n      <td>3</td>\n    </tr>\n    <tr>\n      <th>130</th>\n      <td>Palicourea tomentosa</td>\n      <td>1145089</td>\n      <td>36857005</td>\n      <td>4</td>\n    </tr>\n  </tbody>\n</table>\n<p>131 rows × 4 columns</p>\n</div>"
     },
     "execution_count": 8,
     "metadata": {},
     "output_type": "execute_result"
    }
   ],
   "source": [
    "missing_en_wp_by_user = pd.DataFrame(columns=[\"taxon\", \"iNaturalist_taxon_id\", \"iNaturalist_observation_id\", \"reviewers\"])\n",
    "\n",
    "for observation in result[\"results\"]:\n",
    "    if observation[\"taxon\"][\"name\"] in verified:\n",
    "        missing_en_wp_by_user.loc[len(missing_en_wp_by_user)] = [observation[\"taxon\"][\"name\"], observation[\"taxon\"][\"id\"], observation[\"id\"], len(observation[\"reviewed_by\"])]\n",
    "missing_en_wp_by_user"
   ]
  },
  {
   "cell_type": "code",
   "execution_count": 20,
   "metadata": {},
   "outputs": [],
   "source": [
    "import shutil\n",
    "shutil.rmtree('./new_articles/')\n",
    "os.makedirs(os.path.dirname('./new_articles/'), exist_ok=True)"
   ]
  },
  {
   "cell_type": "code",
   "execution_count": 23,
   "outputs": [],
   "source": [
    "for taxon in table.keys():\n",
    "    if table[taxon][\"taxon_name\"] in verified:\n",
    "        mdFile = mdutils.MdUtils(file_name='new_articles/'+table[taxon][\"taxon_name\"].replace(\" \", \"_\"),title=table[taxon][\"taxon_name\"])\n",
    "        mdFile.new_line(f\"[iNaturalist taxon id: {taxon}](https://www.inaturalist.org/taxa/{taxon})\")\n",
    "        for image in table[taxon][\"photos\"]:\n",
    "            mdFile.new_line(f\"![{table[taxon]['taxon_name']}]({image.replace('square', 'medium')})\")\n",
    "        mdFile.create_md_file()"
   ],
   "metadata": {
    "collapsed": false,
    "pycharm": {
     "name": "#%%\n"
    }
   }
  },
  {
   "cell_type": "code",
   "execution_count": 22,
   "outputs": [],
   "source": [
    "import yaml\n",
    "\n",
    "with open(r'_toc.yml') as file:\n",
    "    # The FullLoader parameter handles the conversion from YAML\n",
    "    # scalar values to Python the dictionary format\n",
    "    species = yaml.load(file, Loader=yaml.FullLoader)\n",
    "\n",
    "species[\"parts\"][0][\"chapters\"] = []\n",
    "for file in os.listdir('./new_articles/'):\n",
    "    species[\"parts\"][0][\"chapters\"].append({'file': 'new_articles/'+file})\n",
    "with open(r'_toc.yml', 'w+') as file:\n",
    "    documents = yaml.dump(species, file)"
   ],
   "metadata": {
    "collapsed": false,
    "pycharm": {
     "name": "#%%\n"
    }
   }
  },
  {
   "cell_type": "code",
   "execution_count": null,
   "outputs": [],
   "source": [],
   "metadata": {
    "collapsed": false,
    "pycharm": {
     "name": "#%%\n"
    }
   }
  }
 ],
 "metadata": {
  "celltoolbar": "Tags",
  "kernelspec": {
   "display_name": "Python 3",
   "language": "python",
   "name": "python3"
  },
  "language_info": {
   "codemirror_mode": {
    "name": "ipython",
    "version": 3
   },
   "file_extension": ".py",
   "mimetype": "text/x-python",
   "name": "python",
   "nbconvert_exporter": "python",
   "pygments_lexer": "ipython3",
   "version": "3.8.9"
  }
 },
 "nbformat": 4,
 "nbformat_minor": 1
}